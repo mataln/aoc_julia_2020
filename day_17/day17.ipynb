{
 "cells": [
  {
   "cell_type": "code",
   "execution_count": 151,
   "metadata": {},
   "outputs": [
    {
     "data": {
      "text/plain": [
       "\"......##\\n####.#..\\n.##....#\\n.##.#..#\\n........\\n.#.#.###\\n#.##....\\n####.#..\""
      ]
     },
     "execution_count": 151,
     "metadata": {},
     "output_type": "execute_result"
    }
   ],
   "source": [
    "example_input = open(f->read(f, String), \"example.txt\")\n",
    "task_input = open(f->read(f, String), \"task.txt\")"
   ]
  },
  {
   "cell_type": "code",
   "execution_count": 152,
   "metadata": {},
   "outputs": [
    {
     "data": {
      "text/plain": [
       "task1 (generic function with 1 method)"
      ]
     },
     "execution_count": 152,
     "metadata": {},
     "output_type": "execute_result"
    }
   ],
   "source": [
    "using Images\n",
    "\n",
    "function pad_grid(grid::Array{Char,3})\n",
    "    sz = size(grid)[1]\n",
    "    new_grid = fill('.', (sz+2,sz+2,sz+2))\n",
    "    new_grid[2:end-1,2:end-1,2:end-1] = grid\n",
    "    \n",
    "    return new_grid\n",
    "end\n",
    "\n",
    "function count_neighbours(coords::Array{Int64,1}, grid::Array{Char,3})\n",
    "    sz = size(grid)[1]\n",
    "    x, y, z = coords[1], coords[2], coords[3]\n",
    "    \n",
    "    adjacent_count = 0\n",
    "    for x2 in max(x-1,1):min(x+1,sz)\n",
    "        for y2 in max(y-1,1):min(y+1,sz)\n",
    "            for z2 in max(z-1,1):min(z+1,sz)\n",
    "                (!([x2,y2,z2] == [x,y,z]) && grid[x2,y2,z2] == '#') && (adjacent_count += 1)\n",
    "            end\n",
    "        end\n",
    "    end\n",
    "    \n",
    "    return adjacent_count\n",
    "end\n",
    "    \n",
    "    \n",
    "function task1(puzzle_input::String)\n",
    "    rows = split(puzzle_input, \"\\n\")\n",
    "    sz = length(rows)\n",
    "    grid = fill('.', (sz, sz, sz))\n",
    "    \n",
    "    for (i,row) in enumerate(rows)\n",
    "        grid[i,:,1] = [x for x in row]\n",
    "    end\n",
    "    \n",
    "    grid = pad_grid(grid)\n",
    "    \n",
    "    for _ in 1:6\n",
    "        sz = size(grid)[1]\n",
    "        new_grid = fill('.', (sz, sz, sz))\n",
    "        \n",
    "        for x in 1:sz\n",
    "            for y in 1:sz\n",
    "                for z in 1:sz\n",
    "                    neighbours = count_neighbours([x,y,z], grid)\n",
    "                    if grid[x, y, z] == '#'\n",
    "                        (neighbours == 2 || neighbours == 3) && (new_grid[x, y, z] = '#')\n",
    "                    else\n",
    "                        neighbours == 3 && (new_grid[x, y, z] = '#')\n",
    "                    end \n",
    "                end\n",
    "            end\n",
    "        end\n",
    "        \n",
    "        grid = pad_grid(new_grid)    \n",
    "    end\n",
    "   \n",
    "    return count(i->i=='#', grid)\n",
    "end"
   ]
  },
  {
   "cell_type": "code",
   "execution_count": 153,
   "metadata": {},
   "outputs": [
    {
     "data": {
      "text/plain": [
       "426"
      ]
     },
     "execution_count": 153,
     "metadata": {},
     "output_type": "execute_result"
    }
   ],
   "source": [
    "grid = task1(task_input)"
   ]
  },
  {
   "cell_type": "code",
   "execution_count": 135,
   "metadata": {},
   "outputs": [
    {
     "name": "stdout",
     "output_type": "stream",
     "text": [
      "false\n",
      "false\n",
      "false\n",
      "false\n",
      "false\n",
      "false\n",
      "false\n",
      "false\n",
      "false\n",
      "false\n",
      "true\n",
      "false\n",
      "false\n",
      "false\n",
      "false\n",
      "false\n",
      "false\n",
      "false\n",
      "false\n",
      "false\n",
      "false\n",
      "false\n",
      "true\n",
      "false\n",
      "false\n",
      "false\n",
      "false\n"
     ]
    },
    {
     "data": {
      "text/plain": [
       "2"
      ]
     },
     "execution_count": 135,
     "metadata": {},
     "output_type": "execute_result"
    }
   ],
   "source": [
    "count_neighbours([2,4,2], grid)"
   ]
  }
 ],
 "metadata": {
  "kernelspec": {
   "display_name": "Julia 1.5.3",
   "language": "julia",
   "name": "julia-1.5"
  },
  "language_info": {
   "file_extension": ".jl",
   "mimetype": "application/julia",
   "name": "julia",
   "version": "1.5.3"
  }
 },
 "nbformat": 4,
 "nbformat_minor": 4
}

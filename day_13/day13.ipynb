{
 "cells": [
  {
   "cell_type": "code",
   "execution_count": 3,
   "metadata": {},
   "outputs": [],
   "source": [
    "example_input = open(f->read(f, String), \"example.txt\");\n",
    "task_input = open(f->read(f,String), \"task.txt\");"
   ]
  },
  {
   "cell_type": "code",
   "execution_count": 213,
   "metadata": {},
   "outputs": [
    {
     "data": {
      "text/plain": [
       "task2 (generic function with 1 method)"
      ]
     },
     "execution_count": 213,
     "metadata": {},
     "output_type": "execute_result"
    }
   ],
   "source": [
    "function task1(puzzle_input::String)\n",
    "    numbers = [parse(Int64, x) for x in SubString.(puzzle_input, findall(r\"\\b\\d+\\b\", puzzle_input))]\n",
    "    time, buses = numbers[1], numbers[2:end]\n",
    "    min_delay, min_index = findmin([busID - time % busID for busID in buses])\n",
    "    return min_delay*buses[min_index]\n",
    "end\n",
    "\n",
    "function chineseremainder(ns::Array, as::Array)\n",
    "    N = prod(ns)\n",
    "    mod(sum(a * invmod(N ÷ n, n) * (N ÷ n) for (n, a) in zip(ns, as)), N)\n",
    "end\n",
    "\n",
    "function task2(puzzle_input::String)\n",
    "    buses = [tryparse(Int64, x) for x in SubString.(puzzle_input, findall(r\"\\b(\\d+|x)\\b\", puzzle_input))][2:end]\n",
    "    buses, gaps = [buses[i] for i in findall(x->x!=nothing, buses)], [(i-1)%buses[i] for i in findall(x->x!=nothing, buses)]\n",
    "    chineseremainder(buses, -1*gaps)\n",
    "end"
   ]
  },
  {
   "cell_type": "code",
   "execution_count": 214,
   "metadata": {},
   "outputs": [
    {
     "data": {
      "text/plain": [
       "906332393333683"
      ]
     },
     "execution_count": 214,
     "metadata": {},
     "output_type": "execute_result"
    }
   ],
   "source": [
    "task2(task_input)"
   ]
  },
  {
   "cell_type": "code",
   "execution_count": 199,
   "metadata": {},
   "outputs": [
    {
     "data": {
      "text/plain": [
       "7"
      ]
     },
     "execution_count": 199,
     "metadata": {},
     "output_type": "execute_result"
    }
   ],
   "source": [
    "7%563"
   ]
  },
  {
   "cell_type": "code",
   "execution_count": null,
   "metadata": {},
   "outputs": [],
   "source": []
  }
 ],
 "metadata": {
  "kernelspec": {
   "display_name": "Julia 1.5.3",
   "language": "julia",
   "name": "julia-1.5"
  },
  "language_info": {
   "file_extension": ".jl",
   "mimetype": "application/julia",
   "name": "julia",
   "version": "1.5.3"
  }
 },
 "nbformat": 4,
 "nbformat_minor": 4
}

{
 "cells": [
  {
   "cell_type": "code",
   "execution_count": 2,
   "metadata": {},
   "outputs": [
    {
     "data": {
      "text/plain": [
       "6-element Array{Int64,1}:\n",
       "  2\n",
       "  0\n",
       "  1\n",
       "  9\n",
       "  5\n",
       " 19"
      ]
     },
     "execution_count": 2,
     "metadata": {},
     "output_type": "execute_result"
    }
   ],
   "source": [
    "example_input = [0,3,6]\n",
    "task_input = [2,0,1,9,5,19]"
   ]
  },
  {
   "cell_type": "code",
   "execution_count": 58,
   "metadata": {},
   "outputs": [
    {
     "data": {
      "text/plain": [
       "task2 (generic function with 1 method)"
      ]
     },
     "execution_count": 58,
     "metadata": {},
     "output_type": "execute_result"
    }
   ],
   "source": [
    "function get_nth(starting_numbers::Array{Int64,1}, N::Int64)\n",
    "    last_position = Dict{Int64, Int64}(x=>i for (i, x) in enumerate(starting_numbers[1:end-1]))\n",
    "    last_number = starting_numbers[end]\n",
    "    for i in length(starting_numbers)+1:N\n",
    "        if !(last_number in keys(last_position))\n",
    "            last_position[last_number] = i-1\n",
    "            last_number = 0\n",
    "        else\n",
    "            new_number = i-1 - last_position[last_number]\n",
    "            last_position[last_number] = i-1\n",
    "            last_number = new_number\n",
    "        end\n",
    "    end\n",
    "    return last_number      \n",
    "end\n",
    "\n",
    "function task1(puzzle_input::Array{Int64,1})\n",
    "    return get_nth(puzzle_input, 2020)\n",
    "end\n",
    "\n",
    "function task2(puzzle_input::Array{Int64,1})\n",
    "    return get_nth(puzzle_input, 30000000)\n",
    "end"
   ]
  },
  {
   "cell_type": "code",
   "execution_count": 59,
   "metadata": {},
   "outputs": [
    {
     "data": {
      "text/plain": [
       "1009"
      ]
     },
     "execution_count": 59,
     "metadata": {},
     "output_type": "execute_result"
    }
   ],
   "source": [
    "task1(task_input)"
   ]
  },
  {
   "cell_type": "code",
   "execution_count": 69,
   "metadata": {},
   "outputs": [
    {
     "name": "stdout",
     "output_type": "stream",
     "text": [
      "  1.495062 seconds (67 allocations: 269.171 MiB, 2.55% gc time)\n"
     ]
    },
    {
     "data": {
      "text/plain": [
       "62714"
      ]
     },
     "execution_count": 69,
     "metadata": {},
     "output_type": "execute_result"
    }
   ],
   "source": [
    "@time begin\n",
    "    task2(task_input)\n",
    "end"
   ]
  },
  {
   "cell_type": "code",
   "execution_count": null,
   "metadata": {},
   "outputs": [],
   "source": []
  }
 ],
 "metadata": {
  "kernelspec": {
   "display_name": "Julia 1.5.3",
   "language": "julia",
   "name": "julia-1.5"
  },
  "language_info": {
   "file_extension": ".jl",
   "mimetype": "application/julia",
   "name": "julia",
   "version": "1.5.3"
  }
 },
 "nbformat": 4,
 "nbformat_minor": 4
}

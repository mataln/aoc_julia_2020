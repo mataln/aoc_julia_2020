{
 "cells": [
  {
   "cell_type": "code",
   "execution_count": 74,
   "metadata": {},
   "outputs": [],
   "source": [
    "example_input = open(f->read(f, String), \"example.txt\");\n",
    "example_input_2 = open(f->read(f, String), \"example_2.txt\");\n",
    "task_input = open(f->read(f, String), \"task.txt\");"
   ]
  },
  {
   "cell_type": "code",
   "execution_count": 83,
   "metadata": {},
   "outputs": [
    {
     "data": {
      "text/plain": [
       "tasks (generic function with 1 method)"
      ]
     },
     "execution_count": 83,
     "metadata": {},
     "output_type": "execute_result"
    }
   ],
   "source": [
    "function build_graph(puzzle_input::String)\n",
    "    rules = split(puzzle_input, \".\\n\")\n",
    "    parent_graph = Dict()\n",
    "    child_graph = Dict()\n",
    "    for rule in rules\n",
    "        parent = match(r\"^[a-z\\s]*(?=\\sbags\\s)\", rule).match\n",
    "        children = SubString.(rule, findall(r\"(?<=\\d\\s)[a-z\\s]+(?=\\sbag)\", rule))\n",
    "        quantities = [parse(Int64, x) for x in SubString.(rule, findall(r\"\\d\", rule))] #Save for task 2\n",
    "        \n",
    "        parent in keys(parent_graph) || (parent_graph[parent] = Set()) #Make sure the nodes with no parents/children are defined\n",
    "        parent in keys(child_graph) || (child_graph[parent] = Dict())\n",
    "        \n",
    "        for (quantity, child) in zip(quantities, children) \n",
    "            child in keys(parent_graph) || (parent_graph[child] = Set())\n",
    "            parent_graph[child] = union(parent_graph[child], Set([parent]))\n",
    "            child_graph[parent][child] = quantity\n",
    "        end\n",
    "    end\n",
    "    \n",
    "    return parent_graph, child_graph\n",
    "end\n",
    "\n",
    "function recurse_parents(target_colour::AbstractString, parent_graph::Dict)\n",
    "    target_ancestry = Set()\n",
    "    for target_parent in parent_graph[target_colour]\n",
    "        target_ancestry = union(target_ancestry, Set([target_parent]))\n",
    "        target_ancestry = union(target_ancestry, recurse_parents(target_parent, parent_graph))\n",
    "    end\n",
    "    return target_ancestry\n",
    "end\n",
    "\n",
    "function recurse_children(target_colour::AbstractString, child_graph::Dict)\n",
    "    total_descendants = 0\n",
    "    for target_child in child_graph[target_colour]\n",
    "        total_descendants += target_child[2]\n",
    "        total_descendants += target_child[2]*recurse_children(target_child[1], child_graph)\n",
    "    end\n",
    "    return total_descendants\n",
    "end\n",
    "    \n",
    "function tasks(target_colour::String, puzzle_input::String)\n",
    "    parent_graph, child_graph = build_graph(puzzle_input)\n",
    "    task1 = length(recurse_parents(target_colour, parent_graph))\n",
    "    task2 = recurse_children(target_colour, child_graph)\n",
    "    return task1, task2\n",
    "end"
   ]
  }
 ],
 "metadata": {
  "kernelspec": {
   "display_name": "Julia 1.4.1",
   "language": "julia",
   "name": "julia-1.4"
  },
  "language_info": {
   "file_extension": ".jl",
   "mimetype": "application/julia",
   "name": "julia",
   "version": "1.4.1"
  }
 },
 "nbformat": 4,
 "nbformat_minor": 4
}

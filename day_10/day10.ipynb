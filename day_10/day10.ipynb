{
 "cells": [
  {
   "cell_type": "code",
   "execution_count": 3,
   "metadata": {},
   "outputs": [],
   "source": [
    "example_input1 = open(f->read(f, String), \"example1.txt\");\n",
    "example_input2 = open(f->read(f, String), \"example2.txt\");\n",
    "task_input = open(f->read(f, String), \"task.txt\");"
   ]
  },
  {
   "cell_type": "code",
   "execution_count": 15,
   "metadata": {},
   "outputs": [
    {
     "data": {
      "text/plain": [
       "task2 (generic function with 1 method)"
      ]
     },
     "execution_count": 15,
     "metadata": {},
     "output_type": "execute_result"
    }
   ],
   "source": [
    "function task1(puzzle_input::String)\n",
    "    adapters = sort([parse(Int64, x) for x in split(puzzle_input,\"\\n\")]) #Could preallocate for the next two lines\n",
    "    pushfirst!(adapters, 0)\n",
    "    push!(adapters, adapters[end]+3)\n",
    "    differences = adapters[2:end] - adapters[1:end-1]\n",
    "    counts = [count(x->x==i, differences) for i in [1,3]]\n",
    "    return counts[1]*counts[2]\n",
    "end\n",
    "\n",
    "function get_combinations(N::Int64)\n",
    "    N_combinations = zeros(N)\n",
    "    N_combinations[1:3] = [1, 2, 4]\n",
    "    \n",
    "    for n in 4:N\n",
    "        N_combinations[n] = sum(N_combinations[n-3:n-1])\n",
    "    end\n",
    "    \n",
    "    return N_combinations\n",
    "    \n",
    "end\n",
    "\n",
    "function task2(puzzle_input::String)\n",
    "    adapters = sort([parse(Int64, x) for x in split(puzzle_input,\"\\n\")]) \n",
    "    pushfirst!(adapters, 0)\n",
    "    push!(adapters, adapters[end]+3)\n",
    "    differences = adapters[2:end] - adapters[1:end-1]\n",
    "    \n",
    "    #Count the length of continous blocks of differences of 1\n",
    "    block_counts = []\n",
    "    block_count=0\n",
    "    for diff in differences\n",
    "        if diff == 1\n",
    "            block_count+=1\n",
    "        elseif diff ==3\n",
    "            block_count !=0 && push!(block_counts, block_count)\n",
    "            block_count = 0\n",
    "        end\n",
    "    end\n",
    "    \n",
    "    n_combinations = get_combinations(maximum(block_counts))\n",
    "        \n",
    "    block_combinations = [n_combinations[x] for x in block_counts]\n",
    "        \n",
    "    return prod(block_combinations)\n",
    "    \n",
    "end"
   ]
  },
  {
   "cell_type": "code",
   "execution_count": 16,
   "metadata": {},
   "outputs": [
    {
     "name": "stdout",
     "output_type": "stream",
     "text": [
      "1.29586085429248e14  0.014459 seconds (14.06 k allocations: 780.886 KiB)\n"
     ]
    }
   ],
   "source": [
    "@time begin\n",
    "    print(task2(task_input))\n",
    "end"
   ]
  },
  {
   "cell_type": "code",
   "execution_count": 142,
   "metadata": {},
   "outputs": [
    {
     "data": {
      "text/plain": [
       "4-element Array{Float64,1}:\n",
       " 1.0\n",
       " 2.0\n",
       " 4.0\n",
       " 6.0"
      ]
     },
     "execution_count": 142,
     "metadata": {},
     "output_type": "execute_result"
    }
   ],
   "source": [
    "get_combinations(4)"
   ]
  },
  {
   "cell_type": "code",
   "execution_count": null,
   "metadata": {},
   "outputs": [],
   "source": []
  }
 ],
 "metadata": {
  "kernelspec": {
   "display_name": "Julia 1.5.3",
   "language": "julia",
   "name": "julia-1.5"
  },
  "language_info": {
   "file_extension": ".jl",
   "mimetype": "application/julia",
   "name": "julia",
   "version": "1.5.3"
  }
 },
 "nbformat": 4,
 "nbformat_minor": 4
}

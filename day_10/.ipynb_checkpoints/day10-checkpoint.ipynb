{
 "cells": [
  {
   "cell_type": "code",
   "execution_count": 61,
   "metadata": {},
   "outputs": [],
   "source": [
    "example_input1 = open(f->read(f, String), \"example1.txt\");\n",
    "example_input2 = open(f->read(f, String), \"example2.txt\");\n",
    "task_input = open(f->read(f, String), \"task.txt\");"
   ]
  },
  {
   "cell_type": "code",
   "execution_count": 104,
   "metadata": {},
   "outputs": [
    {
     "data": {
      "text/plain": [
       "task2 (generic function with 1 method)"
      ]
     },
     "execution_count": 104,
     "metadata": {},
     "output_type": "execute_result"
    }
   ],
   "source": [
    "function task1(puzzle_input::String)\n",
    "    adapters = sort([parse(Int64, x) for x in split(puzzle_input,\"\\n\")]) #Could preallocate for the next two lines\n",
    "    pushfirst!(adapters, 0)\n",
    "    push!(adapters, adapters[end]+3)\n",
    "    differences = adapters[2:end] - adapters[1:end-1]\n",
    "    counts = [count(x->x==i, differences) for i in [1,3]]\n",
    "    return counts[1]*counts[2]\n",
    "end\n",
    "\n",
    "function get_combinations(N::Int64)\n",
    "    N_combinations = zeros(N)\n",
    "    N_combinations[1:3] = [1, 2, 4]\n",
    "    \n",
    "    for n in 4:N\n",
    "        N_combinations[i] = sum([N_combinations[n-i]*N_combinations[i] for i in(1:n-1)])\n",
    "    end\n",
    "    \n",
    "end\n",
    "\n",
    "function task2(puzzle_input::String)\n",
    "    adapters = sort([parse(Int64, x) for x in split(puzzle_input,\"\\n\")]) \n",
    "    pushfirst!(adapters, 0)\n",
    "    push!(adapters, adapters[end]+3)\n",
    "    differences = adapters[2:end] - adapters[1:end-1]\n",
    "    \n",
    "    #Count the length of continous blocks of differences of 1\n",
    "    block_counts = []\n",
    "    block_count=0\n",
    "    for diff in differences\n",
    "        if diff == 1\n",
    "            block_count+=1\n",
    "        elseif diff ==3\n",
    "            block_count !=0 && push!(block_counts, block_count)\n",
    "            block_count = 0\n",
    "        end\n",
    "    end\n",
    "    \n",
    "    n_combinations = get_combinations(max(block_counts))\n",
    "        \n",
    "    block_combinations = [n_combinations[x] for x in block_counts]\n",
    "        \n",
    "    return prod(block_combinations)\n",
    "    \n",
    "end"
   ]
  },
  {
   "cell_type": "code",
   "execution_count": 105,
   "metadata": {},
   "outputs": [
    {
     "data": {
      "text/plain": [
       "35"
      ]
     },
     "execution_count": 105,
     "metadata": {},
     "output_type": "execute_result"
    }
   ],
   "source": [
    "task1(example_input1)"
   ]
  },
  {
   "cell_type": "code",
   "execution_count": 106,
   "metadata": {},
   "outputs": [
    {
     "ename": "LoadError",
     "evalue": "UndefVarError: i not defined",
     "output_type": "error",
     "traceback": [
      "UndefVarError: i not defined",
      "",
      "Stacktrace:",
      " [1] get_combinations(::Int64) at .\\In[104]:15",
      " [2] top-level scope at In[106]:1",
      " [3] include_string(::Function, ::Module, ::String, ::String) at .\\loading.jl:1091"
     ]
    }
   ],
   "source": [
    "get_combinations(5)"
   ]
  },
  {
   "cell_type": "code",
   "execution_count": 107,
   "metadata": {},
   "outputs": [
    {
     "name": "stdout",
     "output_type": "stream",
     "text": [
      "1\n",
      "2\n",
      "3\n",
      "4\n",
      "5\n"
     ]
    }
   ],
   "source": [
    "for i in (1:5)\n",
    "    println(i)\n",
    "end"
   ]
  },
  {
   "cell_type": "code",
   "execution_count": null,
   "metadata": {},
   "outputs": [],
   "source": []
  }
 ],
 "metadata": {
  "kernelspec": {
   "display_name": "Julia 1.5.3",
   "language": "julia",
   "name": "julia-1.5"
  },
  "language_info": {
   "file_extension": ".jl",
   "mimetype": "application/julia",
   "name": "julia",
   "version": "1.5.3"
  }
 },
 "nbformat": 4,
 "nbformat_minor": 4
}

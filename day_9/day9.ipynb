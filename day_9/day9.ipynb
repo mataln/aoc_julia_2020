{
 "cells": [
  {
   "cell_type": "code",
   "execution_count": 64,
   "metadata": {},
   "outputs": [],
   "source": [
    "example_input = open(f->read(f, String), \"example.txt\");\n",
    "task_input = open(f->read(f, String), \"task.txt\");"
   ]
  },
  {
   "cell_type": "code",
   "execution_count": 65,
   "metadata": {},
   "outputs": [
    {
     "data": {
      "text/plain": [
       "tasks (generic function with 1 method)"
      ]
     },
     "execution_count": 65,
     "metadata": {},
     "output_type": "execute_result"
    }
   ],
   "source": [
    "function tasks(puzzle_input::String, preamble::Int64)\n",
    "    input_sequence = [parse(Int64, x) for x in split(puzzle_input, \"\\n\")]\n",
    "    \n",
    "    sum_matrix = [x+y for x in input_sequence[1:preamble], y in input_sequence[1:preamble]]\n",
    "    \n",
    "    #task 1=====================================\n",
    "    invalid_number = -1 \n",
    "    for start in 1:length(input_sequence)\n",
    "        #N.B Redoing the additions is faster than updating the matrix\n",
    "        sum_matrix = [x+y for x in input_sequence[start:start+preamble-1], y in input_sequence[start:start+preamble-1]]\n",
    "        if !(input_sequence[start+preamble] in sum_matrix)\n",
    "            invalid_number = input_sequence[start+preamble]\n",
    "            break\n",
    "        end \n",
    "    end\n",
    "    \n",
    "    #task 2=====================================\n",
    "\n",
    "    start = 1\n",
    "    next = 2\n",
    "    contig_sums = [input_sequence[start] + input_sequence[start+1]] \n",
    "    \n",
    "    while start < length(input_sequence)\n",
    "        while contig_sums[end] < invalid_number\n",
    "            next = start + length(contig_sums) + 1\n",
    "            push!(contig_sums, contig_sums[end] + input_sequence[next])\n",
    "        end\n",
    "        contig_sums[end] == invalid_number && return invalid_number, minimum(input_sequence[start:next-1]) + maximum(input_sequence[start:next-1])\n",
    "        \n",
    "        contig_sums = contig_sums .- input_sequence[start] #Reuse previous computation\n",
    "        popfirst!(contig_sums)\n",
    "        start += 1\n",
    "    end\n",
    "    \n",
    "    return invalid_number, -1 #Failed task 2\n",
    "    \n",
    "end"
   ]
  },
  {
   "cell_type": "code",
   "execution_count": 66,
   "metadata": {},
   "outputs": [
    {
     "name": "stdout",
     "output_type": "stream",
     "text": [
      "  0.000630 seconds (5.12 k allocations: 4.364 MiB)\n"
     ]
    },
    {
     "data": {
      "text/plain": [
       "(731031916, 93396727)"
      ]
     },
     "execution_count": 66,
     "metadata": {},
     "output_type": "execute_result"
    }
   ],
   "source": [
    "@time begin\n",
    "    tasks(task_input, 25)\n",
    "end"
   ]
  },
  {
   "cell_type": "code",
   "execution_count": 67,
   "metadata": {},
   "outputs": [
    {
     "data": {
      "text/plain": [
       "BenchmarkTools.Trial: \n",
       "  memory estimate:  4.36 MiB\n",
       "  allocs estimate:  5121\n",
       "  --------------\n",
       "  minimum time:     580.714 μs (0.00% GC)\n",
       "  median time:      619.952 μs (0.00% GC)\n",
       "  mean time:        792.666 μs (17.64% GC)\n",
       "  maximum time:     2.750 ms (72.16% GC)\n",
       "  --------------\n",
       "  samples:          6296\n",
       "  evals/sample:     1"
      ]
     },
     "execution_count": 67,
     "metadata": {},
     "output_type": "execute_result"
    }
   ],
   "source": [
    "using BenchmarkTools\n",
    "@benchmark tasks(task_input, 25)"
   ]
  },
  {
   "cell_type": "code",
   "execution_count": null,
   "metadata": {},
   "outputs": [],
   "source": []
  }
 ],
 "metadata": {
  "kernelspec": {
   "display_name": "Julia 1.4.1",
   "language": "julia",
   "name": "julia-1.4"
  },
  "language_info": {
   "file_extension": ".jl",
   "mimetype": "application/julia",
   "name": "julia",
   "version": "1.4.1"
  }
 },
 "nbformat": 4,
 "nbformat_minor": 4
}

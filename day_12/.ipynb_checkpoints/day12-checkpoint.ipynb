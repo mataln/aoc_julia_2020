{
 "cells": [
  {
   "cell_type": "code",
   "execution_count": 1,
   "metadata": {},
   "outputs": [],
   "source": [
    "example_input = open(f->read(f, String), \"example.txt\");\n",
    "task_input = open(f->read(f, String), \"task.txt\");"
   ]
  },
  {
   "cell_type": "code",
   "execution_count": 63,
   "metadata": {},
   "outputs": [
    {
     "data": {
      "text/plain": [
       "task2 (generic function with 1 method)"
      ]
     },
     "execution_count": 63,
     "metadata": {},
     "output_type": "execute_result"
    }
   ],
   "source": [
    "function task1(puzzle_input::String)\n",
    "    directions = split(puzzle_input, \"\\n\")\n",
    "    position = [0, 0] #EW NS\n",
    "    heading = 90\n",
    "    \n",
    "    for direction in directions\n",
    "        num = parse(Float64, direction[2:end])\n",
    "        direction[1] == 'N' && (position += [0, num])\n",
    "        direction[1] == 'S' && (position -= [0, num])\n",
    "        direction[1] == 'E' && (position += [num, 0])\n",
    "        direction[1] == 'W' && (position -= [num, 0])\n",
    "        direction[1] == 'F' && (position += [sind(heading)*num, cosd(heading)*num])\n",
    "        direction[1] == 'R' && (heading = (heading + num) % 360)\n",
    "        direction[1] == 'L' && (heading = (heading - num) % 360)\n",
    "    end\n",
    "    \n",
    "    return abs(position[1]) + abs(position[2]) \n",
    "end\n",
    "\n",
    "function task2(puzzle_input::String)\n",
    "    directions = split(puzzle_input::String)\n",
    "    position = [0,0]\n",
    "    waypoint = [10,1] #Relative to ship\n",
    "    \n",
    "    for direction in directions\n",
    "        num = parse(Float64, direction[2:end])\n",
    "        direction[1] == 'N' && (waypoint += [0, num])\n",
    "        direction[1] == 'S' && (waypoint -= [0, num])\n",
    "        direction[1] == 'E' && (waypoint += [num, 0])\n",
    "        direction[1] == 'W' && (waypoint -= [num, 0])\n",
    "        direction[1] == 'F' && (position += num*waypoint)\n",
    "        direction[1] == 'R' && (waypoint = [waypoint[1]*cosd(num)+waypoint[2]*sind(num), waypoint[2]*cosd(num)-waypoint[1]*sind(num)])\n",
    "        direction[1] == 'L' && (waypoint = [waypoint[1]*cosd(-num)+waypoint[2]*sind(-num), waypoint[2]*cosd(-num)-waypoint[1]*sind(-num)])\n",
    "    end\n",
    "    \n",
    "    return abs(position[1]) + abs(position[2])\n",
    "    \n",
    "end"
   ]
  },
  {
   "cell_type": "code",
   "execution_count": 66,
   "metadata": {},
   "outputs": [
    {
     "data": {
      "text/plain": [
       "89984.0"
      ]
     },
     "execution_count": 66,
     "metadata": {},
     "output_type": "execute_result"
    }
   ],
   "source": [
    "task2(task_input)"
   ]
  },
  {
   "cell_type": "code",
   "execution_count": 60,
   "metadata": {},
   "outputs": [
    {
     "data": {
      "text/plain": [
       "-1.0"
      ]
     },
     "execution_count": 60,
     "metadata": {},
     "output_type": "execute_result"
    }
   ],
   "source": [
    "cosd(180)"
   ]
  }
 ],
 "metadata": {
  "kernelspec": {
   "display_name": "Julia 1.4.1",
   "language": "julia",
   "name": "julia-1.4"
  },
  "language_info": {
   "file_extension": ".jl",
   "mimetype": "application/julia",
   "name": "julia",
   "version": "1.4.1"
  }
 },
 "nbformat": 4,
 "nbformat_minor": 4
}

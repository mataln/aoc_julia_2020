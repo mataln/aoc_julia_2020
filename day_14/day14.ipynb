{
 "cells": [
  {
   "cell_type": "code",
   "execution_count": 3,
   "metadata": {},
   "outputs": [],
   "source": [
    "example_input = open(f->read(f, String), \"example.txt\");\n",
    "task_input = open(f->read(f,String), \"task.txt\");"
   ]
  },
  {
   "cell_type": "code",
   "execution_count": 4,
   "metadata": {},
   "outputs": [
    {
     "data": {
      "text/plain": [
       "task2 (generic function with 1 method)"
      ]
     },
     "execution_count": 4,
     "metadata": {},
     "output_type": "execute_result"
    }
   ],
   "source": [
    "function execute_instructions1(instructions::Array{SubString{String},1})\n",
    "    mem = Dict()\n",
    "    sel = [0 for _ in 1:36]\n",
    "    mask = [0 for _ in 1:36]\n",
    "    for instruction in instructions\n",
    "        if instruction[1:2] == \"ma\"\n",
    "            sel = [x!='X' for x in instruction[8:end]]\n",
    "            mask = [x!='X' && parse(Int64, x) for x in instruction[8:end]]\n",
    "        else\n",
    "            result = sel.*mask + (1 .- sel).*(digits(parse(Int64, match(r\"(?<=\\s)\\d+$\", instruction).match), base=2, pad=36) |> reverse)\n",
    "            mem[parse(Int64, match(r\"(?<=\\[)\\d+(?=\\])\", instruction).match)] = result\n",
    "        end\n",
    "    end\n",
    "    return sum(values(mem))\n",
    "end\n",
    "\n",
    "function execute_instructions2(instructions::Array{SubString{String},1})\n",
    "    mem = Dict()\n",
    "    mask_string = \"000000000000000000000000000000000000\"\n",
    "    sel = [0 for _ in 1:36]\n",
    "    for instruction in instructions\n",
    "        if instruction[1:2] == \"ma\"\n",
    "            mask_string = instruction[8:end]\n",
    "        else\n",
    "            masked_addresses = apply_mem_mask(mask_string, parse(Int64, match(r\"(?<=\\[)\\d+(?=\\])\", instruction).match))\n",
    "            for masked_address in masked_addresses\n",
    "                mem[to_dec(masked_address)] = parse(Int64, match(r\"(?<=\\s)\\d+$\", instruction).match)\n",
    "            end\n",
    "        end\n",
    "    end\n",
    "    return sum(values(mem))\n",
    "end\n",
    "\n",
    "function apply_mem_mask(mask_string::AbstractString, address_number::Int64)\n",
    "    address_bin = digits(address_number, base=2, pad=36) |> reverse\n",
    "    masked_addresses = [[0 for _ in 1:36]]\n",
    "    for i in 1:36 \n",
    "        mask_bit = tryparse(Int64, string(mask_string[i]))\n",
    "        if mask_bit != nothing\n",
    "            for j in 1:length(masked_addresses)\n",
    "                masked_addresses[j][i] = mask_bit + (1-mask_bit)*address_bin[i]\n",
    "            end\n",
    "        else\n",
    "            for j in 1:length(masked_addresses)\n",
    "                push!(masked_addresses, copy(masked_addresses[j]))\n",
    "                masked_addresses[j][i] = 0\n",
    "                masked_addresses[end][i] = 1\n",
    "            end\n",
    "        end\n",
    "    end\n",
    "    \n",
    "    return masked_addresses\n",
    "end\n",
    "      \n",
    "function to_dec(bin::Array{Int64,1})\n",
    "    return sum([x*2^(36-i) for (i,x) in enumerate(bin)])\n",
    "end\n",
    "\n",
    "function task1(puzzle_input::String)\n",
    "    instructions = split(puzzle_input, \"\\n\")\n",
    "    return to_dec(execute_instructions1(instructions))\n",
    "end\n",
    "    \n",
    "function task2(puzzle_input::String)\n",
    "    instructions = split(puzzle_input, \"\\n\")\n",
    "    return execute_instructions2(instructions)\n",
    "end"
   ]
  },
  {
   "cell_type": "code",
   "execution_count": 5,
   "metadata": {},
   "outputs": [
    {
     "data": {
      "text/plain": [
       "165"
      ]
     },
     "execution_count": 5,
     "metadata": {},
     "output_type": "execute_result"
    }
   ],
   "source": [
    "task1(example_input)"
   ]
  },
  {
   "cell_type": "code",
   "execution_count": 6,
   "metadata": {},
   "outputs": [
    {
     "data": {
      "text/plain": [
       "5724245857696"
      ]
     },
     "execution_count": 6,
     "metadata": {},
     "output_type": "execute_result"
    }
   ],
   "source": [
    "task2(task_input)"
   ]
  },
  {
   "cell_type": "code",
   "execution_count": null,
   "metadata": {},
   "outputs": [],
   "source": []
  }
 ],
 "metadata": {
  "kernelspec": {
   "display_name": "Julia 1.5.3",
   "language": "julia",
   "name": "julia-1.5"
  },
  "language_info": {
   "file_extension": ".jl",
   "mimetype": "application/julia",
   "name": "julia",
   "version": "1.5.3"
  }
 },
 "nbformat": 4,
 "nbformat_minor": 4
}

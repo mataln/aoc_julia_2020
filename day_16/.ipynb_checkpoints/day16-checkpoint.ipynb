{
 "cells": [
  {
   "cell_type": "code",
   "execution_count": 132,
   "metadata": {},
   "outputs": [],
   "source": [
    "example_input = open(f->read(f, String), \"example.txt\");\n",
    "example_input2 = open(f->read(f, String), \"example2.txt\");\n",
    "task_input = open(f->read(f, String), \"task.txt\");"
   ]
  },
  {
   "cell_type": "code",
   "execution_count": 251,
   "metadata": {},
   "outputs": [
    {
     "data": {
      "text/plain": [
       "tasks (generic function with 1 method)"
      ]
     },
     "execution_count": 251,
     "metadata": {},
     "output_type": "execute_result"
    }
   ],
   "source": [
    "function process_tickets(fields::Dict{String,Array{UnitRange{Int64},1}}, my_ticket::Array{Int64,1}, nearby_tickets::Array{Array{Int64,1},1})\n",
    "    ticket_error_rate = 0\n",
    "    is_valid=[]\n",
    "    for ticket in nearby_tickets\n",
    "        valid = true\n",
    "        for field_value in ticket\n",
    "            if all([!(in_ranges(field_value, ranges)) for ranges in values(fields)])\n",
    "                ticket_error_rate += field_value\n",
    "                valid = false\n",
    "            end\n",
    "        end\n",
    "        push!(is_valid, valid)\n",
    "    end\n",
    "    \n",
    "    valid_tickets = nearby_tickets[[is_valid[i] for i in 1:length(nearby_tickets)]]\n",
    "    \n",
    "    could_be = [Set(keys(fields)) for _ in 1:length(nearby_tickets[1])]\n",
    "    \n",
    "    for ticket in valid_tickets\n",
    "        all([length(field_could_be) == 1 for field_could_be in could_be]) && break\n",
    "        \n",
    "        for (i, field_value) in enumerate(ticket)\n",
    "            for (field_name, field_ranges) in fields\n",
    "                !(in_ranges(field_value, field_ranges)) && delete!(could_be[i], field_name)\n",
    "            end\n",
    "        end\n",
    "    end\n",
    "    \n",
    "    #N.B sorted lengths of could_be is 1:20\n",
    "    sorted_could_be = sort(could_be, by=length)\n",
    "    sorted_indices = sortperm(could_be, by=length)\n",
    "    \n",
    "    correct_fields_sorted = [setdiff(could_be[sorted_indices[i+1]], could_be[sorted_indices[i]]) for i in 1:length(sorted_indices)-1]\n",
    "    pushfirst!(correct_fields_sorted, could_be[sorted_indices[1]])\n",
    "    \n",
    "    could_be[sorted_indices] = correct_fields_sorted\n",
    "    \n",
    "    task2 = 1\n",
    "    for (i, class) in enumerate(could_be)\n",
    "        if occursin(\"departure\", first(class))\n",
    "            task2 *= my_ticket[i]\n",
    "        end\n",
    "    end\n",
    "\n",
    "    return ticket_error_rate, task2 #1ask1, task2\n",
    "end\n",
    "\n",
    "function in_ranges(n, ranges)\n",
    "    return any([n in range for range in ranges])\n",
    "end\n",
    "\n",
    "function tasks(puzzle_input::String)\n",
    "    chunks = split(puzzle_input, \"\\n\\n\")\n",
    "    f_lines = split(chunks[1],\"\\n\")\n",
    "    f_names = [match(r\"^[a-z\\s]+(?=:)\", f_line).match for f_line in f_lines]\n",
    "    f_nos = [[parse(Int64, x) for x in pair_ranges] for pair_ranges in [SubString.(f_line, findall(r\"\\b\\d+\\b\", f_line)) for f_line in f_lines]]\n",
    "    fields = Dict{String, Array{UnitRange{Int64},1}}(f_name => [f_no[1]:f_no[2], f_no[3]:f_no[4]] for (f_name, f_no) in zip(f_names, f_nos))\n",
    "    my_ticket = [parse(Int64, x) for x in split(split(chunks[2],\"\\n\")[2],\",\")]\n",
    "    nearby_tickets = [[parse(Int64, x) for x in y] for y in [split(x,\",\") for x in split(chunks[3],\"\\n\")[2:end]]]\n",
    "        \n",
    "    return process_tickets(fields, my_ticket, nearby_tickets)\n",
    "end"
   ]
  },
  {
   "cell_type": "code",
   "execution_count": 262,
   "metadata": {},
   "outputs": [
    {
     "name": "stdout",
     "output_type": "stream",
     "text": [
      "  0.007480 seconds (182.04 k allocations: 16.917 MiB)\n"
     ]
    },
    {
     "data": {
      "text/plain": [
       "(21071, 3429967441937)"
      ]
     },
     "execution_count": 262,
     "metadata": {},
     "output_type": "execute_result"
    }
   ],
   "source": [
    "@time begin\n",
    "    tasks(task_input)\n",
    "end"
   ]
  },
  {
   "cell_type": "code",
   "execution_count": null,
   "metadata": {},
   "outputs": [],
   "source": []
  }
 ],
 "metadata": {
  "kernelspec": {
   "display_name": "Julia 1.5.3",
   "language": "julia",
   "name": "julia-1.5"
  },
  "language_info": {
   "file_extension": ".jl",
   "mimetype": "application/julia",
   "name": "julia",
   "version": "1.5.3"
  }
 },
 "nbformat": 4,
 "nbformat_minor": 4
}

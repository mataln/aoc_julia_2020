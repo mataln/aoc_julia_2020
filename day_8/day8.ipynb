{
 "cells": [
  {
   "cell_type": "code",
   "execution_count": 1,
   "metadata": {},
   "outputs": [],
   "source": [
    "example_input = open(f->read(f, String), \"example.txt\");\n",
    "task_input = open(f->read(f, String), \"task.txt\");"
   ]
  },
  {
   "cell_type": "code",
   "execution_count": 2,
   "metadata": {},
   "outputs": [
    {
     "data": {
      "text/plain": [
       "task2 (generic function with 1 method)"
      ]
     },
     "execution_count": 2,
     "metadata": {},
     "output_type": "execute_result"
    }
   ],
   "source": [
    "function eval_instruction(instr::AbstractString)\n",
    "    \"\"\"\n",
    "    Evaluates a single instruction instr::AbstractString\n",
    "    Returns increment values for accumulator, pointer\n",
    "    \"\"\"\n",
    "    instr[1] == 'a' && return parse(Int64, instr[5:end]), 1 #acc\n",
    "    instr[1] == 'j' && return 0, parse(Int64, instr[5:end]) #jmp\n",
    "    return 0, 1 #nop\n",
    "end\n",
    "\n",
    "function execute_program(instructions::Array{SubString{String},1})\n",
    "    ptr_hist = Set()\n",
    "    ptr = 1\n",
    "    acc = 0\n",
    "    while true\n",
    "        ptr in ptr_hist && return acc, false\n",
    "        ptr > length(instructions) && return acc, true\n",
    "        push!(ptr_hist, ptr)\n",
    "        instr_eval = eval_instruction(instructions[ptr])\n",
    "        acc += instr_eval[1]\n",
    "        ptr += instr_eval[2]    \n",
    "    end\n",
    "end\n",
    "\n",
    "function task1(puzzle_input::String)\n",
    "    instructions = split(puzzle_input, \"\\n\")\n",
    "    return execute_program(instructions)[1]\n",
    "end\n",
    "\n",
    "function task2(puzzle_input::String)\n",
    "    instructions = split(puzzle_input, \"\\n\")\n",
    "    \n",
    "    for (swap_ptr, instr) in enumerate(instructions)\n",
    "        if (instr[1] == 'j' && instr[5:end] != \"+1\") || (instr[1] == 'n' && instr[6:end] != \"0\")\n",
    "            new_instructions = copy(instructions)\n",
    "            instr[1] == 'j' && (new_instructions[swap_ptr] = \"nop \" * instr[5:end])\n",
    "            instr[1] == 'n' && (new_instructions[swap_ptr] = \"jmp \" * instr[5:end])\n",
    "            acc, terminates = execute_program(new_instructions)\n",
    "            terminates && return acc, new_instructions\n",
    "        end\n",
    "    end\n",
    "    return nothing\n",
    "end"
   ]
  },
  {
   "cell_type": "code",
   "execution_count": 13,
   "metadata": {},
   "outputs": [
    {
     "name": "stdout",
     "output_type": "stream",
     "text": [
      "  0.000010 seconds (63 allocations: 3.719 KiB)\n",
      "  0.005932 seconds (91.94 k allocations: 5.105 MiB)\n"
     ]
    },
    {
     "data": {
      "text/plain": [
       "552"
      ]
     },
     "execution_count": 13,
     "metadata": {},
     "output_type": "execute_result"
    }
   ],
   "source": [
    "@time begin\n",
    "    task2(example_input)[1]\n",
    "end\n",
    "\n",
    "@time begin\n",
    "    task2(task_input)[1]\n",
    "end"
   ]
  },
  {
   "cell_type": "code",
   "execution_count": null,
   "metadata": {},
   "outputs": [],
   "source": []
  }
 ],
 "metadata": {
  "kernelspec": {
   "display_name": "Julia 1.4.1",
   "language": "julia",
   "name": "julia-1.4"
  },
  "language_info": {
   "file_extension": ".jl",
   "mimetype": "application/julia",
   "name": "julia",
   "version": "1.4.1"
  }
 },
 "nbformat": 4,
 "nbformat_minor": 4
}

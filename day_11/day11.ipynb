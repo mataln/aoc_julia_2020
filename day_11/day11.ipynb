{
 "cells": [
  {
   "cell_type": "code",
   "execution_count": 39,
   "metadata": {},
   "outputs": [],
   "source": [
    "example_input = open(f->read(f, String), \"example.txt\");\n",
    "task_input = open(f->read(f, String), \"task.txt\");"
   ]
  },
  {
   "cell_type": "code",
   "execution_count": 112,
   "metadata": {},
   "outputs": [
    {
     "data": {
      "text/plain": [
       "task2 (generic function with 1 method)"
      ]
     },
     "execution_count": 112,
     "metadata": {},
     "output_type": "execute_result"
    }
   ],
   "source": [
    "function update_seats(seats::Array{SubString{String},2})\n",
    "    height, width = size(seats)[1], size(seats)[2]\n",
    "    new_seats = copy(seats)\n",
    "    \n",
    "    for i in 1:height\n",
    "        for j in 1:width\n",
    "    \n",
    "            adjacent_count = 0\n",
    "            for i2 in max(i-1,1):min(i+1,height)\n",
    "                for j2 in max(j-1,1):min(j+1,width)\n",
    "                    if !(i2 == i && j2 == j)\n",
    "                        seats[i2, j2] == \"#\" && (adjacent_count+=1)\n",
    "                    end\n",
    "                end\n",
    "            end  \n",
    "            (adjacent_count == 0 && seats[i, j] == \"L\") && (new_seats[i, j] = \"#\")\n",
    "            (adjacent_count >= 4 && seats[i, j] == \"#\") && (new_seats[i, j] = \"L\")   \n",
    "            \n",
    "        end\n",
    "    end\n",
    "    return new_seats\n",
    "end\n",
    "\n",
    "function update_seats2(seats::Array{SubString{String},2})\n",
    "    height, width = size(seats)[1], size(seats)[2]\n",
    "    new_seats = copy(seats)\n",
    "    for i in 1:height\n",
    "        for j in 1:width  \n",
    "            \n",
    "            adjacent_count = 0 \n",
    "            for idir in [-1,0,1]\n",
    "                for jdir in [-1,0,1]\n",
    "                    if !(idir==0 && jdir==0)\n",
    "                        i2, j2 = i+idir, j+jdir\n",
    "                        while 1 <= i2 <= height && 1 <= j2 <= width && seats[i2,j2] == \".\"\n",
    "                            seats[i2, j2] != \".\" && break\n",
    "                            i2 += idir\n",
    "                            j2 += jdir\n",
    "                        end       \n",
    "                        (1 <= i2 <= height && 1 <= j2 <= width && seats[i2,j2] == \"#\") && (adjacent_count += 1) \n",
    "                    end\n",
    "                end\n",
    "            end  \n",
    "            \n",
    "            (adjacent_count == 0 && seats[i, j] == \"L\") && (new_seats[i, j] = \"#\")\n",
    "            (adjacent_count >= 5 && seats[i, j] == \"#\") && (new_seats[i, j] = \"L\")  \n",
    "            \n",
    "        end\n",
    "    end\n",
    "    return new_seats\n",
    "end\n",
    "            \n",
    "function task1(puzzle_input::String)\n",
    "    seats = permutedims(hcat([split(row,\"\") for row in split(puzzle_input,\"\\n\")]...))\n",
    "    \n",
    "    while true\n",
    "        new_seats = update_seats(seats)\n",
    "        new_seats == seats && break\n",
    "        seats = new_seats\n",
    "    end\n",
    "    \n",
    "    return count(x->x==\"#\", seats)\n",
    "end\n",
    "\n",
    "function task2(puzzle_input::String)\n",
    "    seats = permutedims(hcat([split(row,\"\") for row in split(puzzle_input,\"\\n\")]...))\n",
    "    \n",
    "    while true\n",
    "        new_seats = update_seats2(seats)\n",
    "        new_seats == seats && break\n",
    "        seats = new_seats\n",
    "    end\n",
    "    \n",
    "    return count(x->x==\"#\", seats)\n",
    "end"
   ]
  },
  {
   "cell_type": "code",
   "execution_count": 119,
   "metadata": {},
   "outputs": [
    {
     "data": {
      "text/plain": [
       "2047"
      ]
     },
     "execution_count": 119,
     "metadata": {},
     "output_type": "execute_result"
    }
   ],
   "source": [
    "task2(task_input)"
   ]
  },
  {
   "cell_type": "code",
   "execution_count": null,
   "metadata": {},
   "outputs": [],
   "source": []
  }
 ],
 "metadata": {
  "kernelspec": {
   "display_name": "Julia 1.4.1",
   "language": "julia",
   "name": "julia-1.4"
  },
  "language_info": {
   "file_extension": ".jl",
   "mimetype": "application/julia",
   "name": "julia",
   "version": "1.4.1"
  }
 },
 "nbformat": 4,
 "nbformat_minor": 4
}
